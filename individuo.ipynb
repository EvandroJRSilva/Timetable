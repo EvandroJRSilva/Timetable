{
 "cells": [
  {
   "cell_type": "code",
   "execution_count": null,
   "id": "6570c922",
   "metadata": {},
   "outputs": [],
   "source": [
    "import numpy as np\n",
    "\n",
    "# Array de matrizes bidimensionais\n",
    "# dentro de cada matrix contem a informacao das aulas \n",
    "# as colunas sao os dias de aula \n",
    "# as linhas sao os horarios das aulas \n",
    "individuo = np.array (\n",
    "    [ # Periodo (1)\n",
    "    #   seg  Ter Qua Qui  Sex Sab\n",
    "        [ 1,  2,  3,  4,  5,  6], # 8:20 as 9:10\n",
    "        [ 1,  2,  3,  4,  5,  6], # 9:10 as 10:00\n",
    "        [ 1,  2,  3,  4,  5,  6], # 10:10 as 11:00\n",
    "        [ 1,  2,  3,  4,  5,  6], # 11:00 as 11:50\n",
    "        [ 1,  2,  3,  4,  5,  6], # 11:50 as 12:40\n",
    "    ],\n",
    "    [ # Periodo (2)\n",
    "    #   seg  Ter Qua Qui  Sex Sab\n",
    "        [ 1,  2,  3,  4,  5,  6], # 8:20 as 9:10\n",
    "        [ 1,  2,  3,  4,  5,  6], # 9:10 as 10:00\n",
    "        [ 1,  2,  3,  4,  5,  6], # 10:10 as 11:00\n",
    "        [ 1,  2,  3,  4,  5,  6], # 11:00 as 11:50\n",
    "        [ 1,  2,  3,  4,  5,  6], # 11:50 as 12:40\n",
    "    ]\n",
    ")\n"
   ]
  },
  {
   "cell_type": "code",
   "execution_count": 27,
   "id": "a6187d9a",
   "metadata": {},
   "outputs": [],
   "source": [
    "\n",
    "class aula:\n",
    "    def __init__(self, curso, disciplina, professor, turma, modalidade, turno, periodo):\n",
    "        self.curso = curso\n",
    "        self.disciplina = disciplina \n",
    "        self.professor =professor \n",
    "        self.turma = turma\n",
    "        self.modalidade = modalidade \n",
    "        self.turno = turno\n",
    "        self.periodo = periodo\n"
   ]
  },
  {
   "cell_type": "code",
   "execution_count": 32,
   "id": "6259faf1",
   "metadata": {},
   "outputs": [],
   "source": [
    "# curso de ciencias da computacao\n",
    "Sistemas_operacionais = aula(\"Ciencias da computacao\",\"Sistemas operacionais\", \"Vinicius\", 1, \"Presencial\", \"manha\", 3)\n",
    "Codigo_de_alta_performance = aula(\"Ciencias da computacao\",\"Codigo de alta performance\", \"Tiago\", 1, \"Presencial\", \"manha\", 3)\n",
    "Programacao_mobile = aula(\"Ciencias da computacao\",\"Programacao mobile\", \"Igor\", 1, \"Presencial\", \"manha\", 3)\n",
    "Database_Aplication = aula(\"Ciencias da computacao\",\"Database Aplication\", \"Marcos\", 1, \"Presencial\", \"manha\", 3)\n",
    "Rede_de_Computadores = aula(\"Ciencias da computacao\",\"Rede de Computadores\", \"Evandro\", 1, \"Presencial\", \"manha\", 3)\n",
    "Arquitetura_de_Software = aula(\"Ciencias da computacao\",\"Arquitetura de Software\", \"Karoline\", 1, \"Presencial\", \"manha\", 3)\n",
    "Logica_programacao = aula(\"Ciencias da computacao\",\"Logica de programacao\", \"sem nome\", 1, \"online\", \"manha\", 3)\n",
    "Sistemas_computacionais = aula(\"Ciencias da computacao\",\"Sistemas Computacionais\", \"sem nome\", 1, \"online\", \"manha\", 3)\n",
    "Desenvolvimento_Sustentavel = aula(\"Ciencias da computacao\",\"Sistemas Computacionais\", \"sem nome\", 1, \"DOL\", \"manha\", 3)\n",
    "aula_vazia = aula(None,None,None,None,None,None,None)\n",
    "\n",
    "# ADS\n",
    "Projeto_banco_dados = aula(\"Analise e desenvolvimento de sistemas\",\"Projeto de banco de dados\",\"Marcos antonio\", 1, \"Presencial\", \"manha\", 3)\n",
    "Rede_computadores = aula(\"Analise e desenvolvimento de sistemas\",\"Rede de computadores\",\"sem nome\", 1, \"online\", \"manha\", 3)\n",
    "\n",
    "Org_arquitetura = aula(\"Analise e desenvolvimento de sistemas\",\"Org e Arquitetura de computadores\",\"Joselito\", 1, \"Presencial\", \"manha\", 3)\n",
    "Desenvolvimento_moveis = aula(\"Analise e desenvolvimento de sistemas\",\"Desenvolvimento para dispositivos moveis\", \"Igor\", 1, \"Presencial\", \"manha\", 3)\n",
    "Backend_frameworks = aula(\"Analise e desenvolvimento de sistemas\",\"Backend frameworks\", \"Karoline\", 1, \"Presencial\", \"manha\", 3)\n",
    "Empreendorismo = aula(\"Analise e desenvolvimento de sistemas\",\"Empreendorismo\", \"sem nome\", 1, \"DOL\", \"manha\", 3)\n"
   ]
  },
  {
   "cell_type": "code",
   "execution_count": null,
   "id": "3c1b47bc",
   "metadata": {},
   "outputs": [],
   "source": [
    "import numpy as np\n",
    "\n",
    "individuo = np.array([\n",
    "    [\n",
    "        [aula_vazia,Sistemas_operacionais,Programacao_mobile,Rede_de_Computadores,Codigo_de_alta_performance,Desenvolvimento_Sustentavel],\n",
    "        [aula_vazia,Sistemas_operacionais,Database_Aplication,Rede_de_Computadores,Codigo_de_alta_performance,Desenvolvimento_Sustentavel],\n",
    "        [aula_vazia,Codigo_de_alta_performance,Database_Aplication,Programacao_mobile,Arquitetura_de_Software,Desenvolvimento_Sustentavel],\n",
    "        [aula_vazia,Codigo_de_alta_performance,Database_Aplication,Programacao_mobile,Arquitetura_de_Software,Desenvolvimento_Sustentavel],\n",
    "        [aula_vazia,aula_vazia,Logica_programacao,Sistemas_operacionais,Sistemas_computacionais,aula_vazia],\n",
    "    ],\n",
    "    [\n",
    "        [Projeto_banco_dados,Projeto_banco_dados,Org_arquitetura,Backend_frameworks,Empreendorismo],\n",
    "        [Projeto_banco_dados,Projeto_banco_dados,Org_arquitetura,Backend_frameworks,Empreendorismo],\n",
    "        [Rede_computadores,Org_arquitetura,Desenvolvimento_moveis,Backend_frameworks,Empreendorismo],\n",
    "        [aula_vazia,Org_arquitetura,Desenvolvimento_moveis,Backend_frameworks,Empreendorismo],\n",
    "        [aula_vazia,aula_vazia,aula_vazia,aula_vazia,aula_vazia,aula_vazia],\n",
    "    ]\n",
    "], dtype=object)"
   ]
  },
  {
   "cell_type": "code",
   "execution_count": null,
   "id": "13b9cb89",
   "metadata": {},
   "outputs": [],
   "source": [
    "individuo = [\n",
    "    [\n",
    "        [aula_vazia,Sistemas_operacionais,Programacao_mobile,Rede_de_Computadores,Codigo_de_alta_performance,Desenvolvimento_Sustentavel],\n",
    "        [aula_vazia,Sistemas_operacionais,Database_Aplication,Rede_de_Computadores,Codigo_de_alta_performance,Desenvolvimento_Sustentavel],\n",
    "        [aula_vazia,Codigo_de_alta_performance,Database_Aplication,Programacao_mobile,Arquitetura_de_Software,Desenvolvimento_Sustentavel],\n",
    "        [aula_vazia,Codigo_de_alta_performance,Database_Aplication,Programacao_mobile,Arquitetura_de_Software,Desenvolvimento_Sustentavel],\n",
    "        [aula_vazia,aula_vazia,Logica_programacao,Sistemas_operacionais,Sistemas_computacionais,aula_vazia],\n",
    "    ],\n",
    "    [\n",
    "        [Projeto_banco_dados,Projeto_banco_dados,Org_arquitetura,Backend_frameworks,Empreendorismo],\n",
    "        [Projeto_banco_dados,Projeto_banco_dados,Org_arquitetura,Backend_frameworks,Empreendorismo],\n",
    "        [Rede_computadores,Org_arquitetura,Desenvolvimento_moveis,Backend_frameworks,Empreendorismo],\n",
    "        [aula_vazia,Org_arquitetura,Desenvolvimento_moveis,Backend_frameworks,Empreendorismo],\n",
    "        [aula_vazia,aula_vazia,aula_vazia,aula_vazia,aula_vazia,aula_vazia],\n",
    "    ]\n",
    "]"
   ]
  }
 ],
 "metadata": {
  "kernelspec": {
   "display_name": "modelo-ag-tcc-py3.12",
   "language": "python",
   "name": "python3"
  },
  "language_info": {
   "codemirror_mode": {
    "name": "ipython",
    "version": 3
   },
   "file_extension": ".py",
   "mimetype": "text/x-python",
   "name": "python",
   "nbconvert_exporter": "python",
   "pygments_lexer": "ipython3",
   "version": "3.12.9"
  }
 },
 "nbformat": 4,
 "nbformat_minor": 5
}
